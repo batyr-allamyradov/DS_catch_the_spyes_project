{
 "cells": [
  {
   "cell_type": "code",
   "execution_count": 1,
   "id": "c3d19b89-3ecb-473f-b039-48ed95de4863",
   "metadata": {},
   "outputs": [],
   "source": [
    "import pandas as pd"
   ]
  },
  {
   "cell_type": "code",
   "execution_count": null,
   "id": "e5352ffe-4c92-40b1-8c7f-7106160962c1",
   "metadata": {},
   "outputs": [],
   "source": []
  },
  {
   "cell_type": "code",
   "execution_count": 26,
   "id": "ccbbf526-72c7-4ea3-bec4-d7ee2e34b12a",
   "metadata": {},
   "outputs": [],
   "source": [
    "first_spies_set = pd.read_csv('./data/ready/spyes/spyes.csv')"
   ]
  },
  {
   "cell_type": "code",
   "execution_count": 28,
   "id": "4a7cc654-cf3a-4e7f-b2a8-d35e274a748c",
   "metadata": {},
   "outputs": [],
   "source": [
    "second_spies_set = pd.read_csv('./data/ready/spyes/frequent_spies.csv')"
   ]
  },
  {
   "cell_type": "code",
   "execution_count": 23,
   "id": "3a384e4f-edac-4020-8748-ca4b996eb374",
   "metadata": {},
   "outputs": [],
   "source": [
    "third_spies_set = pd.read_csv('./data/ready/spyes/filtered_strange_person.csv')"
   ]
  },
  {
   "cell_type": "code",
   "execution_count": null,
   "id": "9509ba8f-c661-4eab-aba4-a4caa233d2d2",
   "metadata": {},
   "outputs": [],
   "source": []
  },
  {
   "cell_type": "code",
   "execution_count": 32,
   "id": "71d101c5-2995-49b4-8420-3f7742766589",
   "metadata": {},
   "outputs": [],
   "source": [
    "spies = pd.merge(first_spies_set[['name']], second_spies_set[['name']], how='outer', on='name')"
   ]
  },
  {
   "cell_type": "code",
   "execution_count": 39,
   "id": "baab027e-ec76-4e6e-ab64-2dfe52d2dda1",
   "metadata": {},
   "outputs": [],
   "source": [
    "spies = pd.merge(spies, third_spies_set[['name']], how='outer', on='name')"
   ]
  },
  {
   "cell_type": "code",
   "execution_count": null,
   "id": "7181d7bc-1ec3-49cd-b9aa-c93917a884e7",
   "metadata": {},
   "outputs": [],
   "source": []
  },
  {
   "cell_type": "code",
   "execution_count": 43,
   "id": "2df2c17f-3fcc-4130-813d-411ad761b525",
   "metadata": {},
   "outputs": [
    {
     "data": {
      "text/html": [
       "<div>\n",
       "<style scoped>\n",
       "    .dataframe tbody tr th:only-of-type {\n",
       "        vertical-align: middle;\n",
       "    }\n",
       "\n",
       "    .dataframe tbody tr th {\n",
       "        vertical-align: top;\n",
       "    }\n",
       "\n",
       "    .dataframe thead th {\n",
       "        text-align: right;\n",
       "    }\n",
       "</style>\n",
       "<table border=\"1\" class=\"dataframe\">\n",
       "  <thead>\n",
       "    <tr style=\"text-align: right;\">\n",
       "      <th></th>\n",
       "      <th>name</th>\n",
       "    </tr>\n",
       "  </thead>\n",
       "  <tbody>\n",
       "    <tr>\n",
       "      <th>0</th>\n",
       "      <td>ABRAMOVA ANZHELIKA</td>\n",
       "    </tr>\n",
       "    <tr>\n",
       "      <th>1</th>\n",
       "      <td>ADEL VORONOV</td>\n",
       "    </tr>\n",
       "    <tr>\n",
       "      <th>2</th>\n",
       "      <td>ADELINA CHERNAIA</td>\n",
       "    </tr>\n",
       "    <tr>\n",
       "      <th>3</th>\n",
       "      <td>ADELINA FOMICHEVA</td>\n",
       "    </tr>\n",
       "    <tr>\n",
       "      <th>4</th>\n",
       "      <td>AFANAS'EVA ZARINA</td>\n",
       "    </tr>\n",
       "    <tr>\n",
       "      <th>...</th>\n",
       "      <td>...</td>\n",
       "    </tr>\n",
       "    <tr>\n",
       "      <th>444</th>\n",
       "      <td>ZUBOVA LIUDMILA</td>\n",
       "    </tr>\n",
       "    <tr>\n",
       "      <th>445</th>\n",
       "      <td>ZUEV ALEKSEY</td>\n",
       "    </tr>\n",
       "    <tr>\n",
       "      <th>446</th>\n",
       "      <td>ZUEVA MILENA</td>\n",
       "    </tr>\n",
       "    <tr>\n",
       "      <th>447</th>\n",
       "      <td>ZVEREV LEONID</td>\n",
       "    </tr>\n",
       "    <tr>\n",
       "      <th>448</th>\n",
       "      <td>ZVEREVA TAT'YANA</td>\n",
       "    </tr>\n",
       "  </tbody>\n",
       "</table>\n",
       "<p>449 rows × 1 columns</p>\n",
       "</div>"
      ],
      "text/plain": [
       "                   name\n",
       "0    ABRAMOVA ANZHELIKA\n",
       "1          ADEL VORONOV\n",
       "2      ADELINA CHERNAIA\n",
       "3     ADELINA FOMICHEVA\n",
       "4     AFANAS'EVA ZARINA\n",
       "..                  ...\n",
       "444     ZUBOVA LIUDMILA\n",
       "445        ZUEV ALEKSEY\n",
       "446        ZUEVA MILENA\n",
       "447       ZVEREV LEONID\n",
       "448    ZVEREVA TAT'YANA\n",
       "\n",
       "[449 rows x 1 columns]"
      ]
     },
     "execution_count": 43,
     "metadata": {},
     "output_type": "execute_result"
    }
   ],
   "source": [
    "spies"
   ]
  },
  {
   "cell_type": "code",
   "execution_count": null,
   "id": "0448d5e7-a7ff-4f02-b76e-f1f17d140dfb",
   "metadata": {},
   "outputs": [],
   "source": []
  },
  {
   "cell_type": "code",
   "execution_count": null,
   "id": "412e4214-9b4a-4fff-b81b-b59bb68369ce",
   "metadata": {},
   "outputs": [],
   "source": []
  },
  {
   "cell_type": "code",
   "execution_count": 45,
   "id": "c3c7a6ea-bf7b-469a-a859-1fd5e106186d",
   "metadata": {},
   "outputs": [],
   "source": [
    "spies.to_csv('spies.csv')"
   ]
  }
 ],
 "metadata": {
  "kernelspec": {
   "display_name": "Python 3 (ipykernel)",
   "language": "python",
   "name": "python3"
  },
  "language_info": {
   "codemirror_mode": {
    "name": "ipython",
    "version": 3
   },
   "file_extension": ".py",
   "mimetype": "text/x-python",
   "name": "python",
   "nbconvert_exporter": "python",
   "pygments_lexer": "ipython3",
   "version": "3.12.4"
  }
 },
 "nbformat": 4,
 "nbformat_minor": 5
}
