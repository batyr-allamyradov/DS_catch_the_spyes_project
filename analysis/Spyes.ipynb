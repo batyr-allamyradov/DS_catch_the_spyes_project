{
 "cells": [
  {
   "cell_type": "code",
   "execution_count": 80,
   "id": "28a7d8a8-4da9-4037-a708-f2ba3690db55",
   "metadata": {},
   "outputs": [],
   "source": [
    "import pandas as pd"
   ]
  },
  {
   "cell_type": "code",
   "execution_count": null,
   "id": "881225ae-b4bf-40bc-a874-b13211d5cc07",
   "metadata": {},
   "outputs": [],
   "source": []
  },
  {
   "cell_type": "code",
   "execution_count": 81,
   "id": "0a2e228d-4989-4a46-967a-c6b03026daec",
   "metadata": {},
   "outputs": [],
   "source": [
    "anomaly = pd.read_csv('../data/ready/Anomaly.csv')"
   ]
  },
  {
   "cell_type": "code",
   "execution_count": 82,
   "id": "fd18badd-7b7f-4603-a135-59497c77ebff",
   "metadata": {},
   "outputs": [
    {
     "data": {
      "text/html": [
       "<div>\n",
       "<style scoped>\n",
       "    .dataframe tbody tr th:only-of-type {\n",
       "        vertical-align: middle;\n",
       "    }\n",
       "\n",
       "    .dataframe tbody tr th {\n",
       "        vertical-align: top;\n",
       "    }\n",
       "\n",
       "    .dataframe thead th {\n",
       "        text-align: right;\n",
       "    }\n",
       "</style>\n",
       "<table border=\"1\" class=\"dataframe\">\n",
       "  <thead>\n",
       "    <tr style=\"text-align: right;\">\n",
       "      <th></th>\n",
       "      <th>Unnamed: 0</th>\n",
       "      <th>name</th>\n",
       "    </tr>\n",
       "  </thead>\n",
       "  <tbody>\n",
       "    <tr>\n",
       "      <th>0</th>\n",
       "      <td>0</td>\n",
       "      <td>ADEL AKSENOV</td>\n",
       "    </tr>\n",
       "    <tr>\n",
       "      <th>1</th>\n",
       "      <td>2</td>\n",
       "      <td>ADEL ALEKSANDROV</td>\n",
       "    </tr>\n",
       "    <tr>\n",
       "      <th>2</th>\n",
       "      <td>3</td>\n",
       "      <td>ADEL ASTAKHOV</td>\n",
       "    </tr>\n",
       "    <tr>\n",
       "      <th>3</th>\n",
       "      <td>5</td>\n",
       "      <td>ADEL BABUSHKIN</td>\n",
       "    </tr>\n",
       "    <tr>\n",
       "      <th>4</th>\n",
       "      <td>6</td>\n",
       "      <td>ADEL BASOV</td>\n",
       "    </tr>\n",
       "  </tbody>\n",
       "</table>\n",
       "</div>"
      ],
      "text/plain": [
       "   Unnamed: 0              name\n",
       "0           0      ADEL AKSENOV\n",
       "1           2  ADEL ALEKSANDROV\n",
       "2           3     ADEL ASTAKHOV\n",
       "3           5    ADEL BABUSHKIN\n",
       "4           6        ADEL BASOV"
      ]
     },
     "execution_count": 82,
     "metadata": {},
     "output_type": "execute_result"
    }
   ],
   "source": [
    "anomaly.head()"
   ]
  },
  {
   "cell_type": "code",
   "execution_count": null,
   "id": "1c08b6a4-701c-487d-918e-c993c339bee4",
   "metadata": {},
   "outputs": [],
   "source": []
  },
  {
   "cell_type": "code",
   "execution_count": 143,
   "id": "6a40751e-c20e-417e-b6a9-ea9164b0f390",
   "metadata": {},
   "outputs": [],
   "source": [
    "boarding = pd.read_csv('../data/ready/BoardingData.csv')"
   ]
  },
  {
   "cell_type": "code",
   "execution_count": 84,
   "id": "d4cda868-f2b8-4b6e-9f08-31c3777ee2d9",
   "metadata": {},
   "outputs": [],
   "source": [
    "boarding = boarding[['name', 'percent_suspicious_flights']]"
   ]
  },
  {
   "cell_type": "code",
   "execution_count": 85,
   "id": "7185d560-f238-4949-99ce-51ff7209c94e",
   "metadata": {},
   "outputs": [
    {
     "data": {
      "text/html": [
       "<div>\n",
       "<style scoped>\n",
       "    .dataframe tbody tr th:only-of-type {\n",
       "        vertical-align: middle;\n",
       "    }\n",
       "\n",
       "    .dataframe tbody tr th {\n",
       "        vertical-align: top;\n",
       "    }\n",
       "\n",
       "    .dataframe thead th {\n",
       "        text-align: right;\n",
       "    }\n",
       "</style>\n",
       "<table border=\"1\" class=\"dataframe\">\n",
       "  <thead>\n",
       "    <tr style=\"text-align: right;\">\n",
       "      <th></th>\n",
       "      <th>name</th>\n",
       "      <th>percent_suspicious_flights</th>\n",
       "    </tr>\n",
       "  </thead>\n",
       "  <tbody>\n",
       "    <tr>\n",
       "      <th>0</th>\n",
       "      <td>SAVELII RUSANOV</td>\n",
       "      <td>0.200000</td>\n",
       "    </tr>\n",
       "    <tr>\n",
       "      <th>1</th>\n",
       "      <td>LEV ISAEV</td>\n",
       "      <td>0.600000</td>\n",
       "    </tr>\n",
       "    <tr>\n",
       "      <th>2</th>\n",
       "      <td>NIKOLAI NIKOLSKII</td>\n",
       "      <td>0.555556</td>\n",
       "    </tr>\n",
       "    <tr>\n",
       "      <th>3</th>\n",
       "      <td>ANATOLII SHILOV</td>\n",
       "      <td>0.333333</td>\n",
       "    </tr>\n",
       "    <tr>\n",
       "      <th>4</th>\n",
       "      <td>MIROSLAVA SEMENOVA</td>\n",
       "      <td>0.000000</td>\n",
       "    </tr>\n",
       "  </tbody>\n",
       "</table>\n",
       "</div>"
      ],
      "text/plain": [
       "                 name  percent_suspicious_flights\n",
       "0     SAVELII RUSANOV                    0.200000\n",
       "1           LEV ISAEV                    0.600000\n",
       "2   NIKOLAI NIKOLSKII                    0.555556\n",
       "3     ANATOLII SHILOV                    0.333333\n",
       "4  MIROSLAVA SEMENOVA                    0.000000"
      ]
     },
     "execution_count": 85,
     "metadata": {},
     "output_type": "execute_result"
    }
   ],
   "source": [
    "boarding.head()"
   ]
  },
  {
   "cell_type": "code",
   "execution_count": null,
   "id": "442a8e54-de5a-4ec2-aa33-c1b2b382264c",
   "metadata": {},
   "outputs": [],
   "source": []
  },
  {
   "cell_type": "code",
   "execution_count": 86,
   "id": "4513e751-2267-4542-b2b5-2ab6b88cb4f8",
   "metadata": {},
   "outputs": [],
   "source": [
    "pointz = pd.read_csv('../data/ready/PointzAggregator-AirlinesData.csv')"
   ]
  },
  {
   "cell_type": "code",
   "execution_count": 87,
   "id": "9ec63034-ed1f-45e6-9dd2-0b981feaf210",
   "metadata": {},
   "outputs": [],
   "source": [
    "pointz = pointz[['name', 'percent_suspicious_flights']]"
   ]
  },
  {
   "cell_type": "code",
   "execution_count": 88,
   "id": "53c72bab-4da3-42b3-8718-6e198677b876",
   "metadata": {},
   "outputs": [
    {
     "data": {
      "text/html": [
       "<div>\n",
       "<style scoped>\n",
       "    .dataframe tbody tr th:only-of-type {\n",
       "        vertical-align: middle;\n",
       "    }\n",
       "\n",
       "    .dataframe tbody tr th {\n",
       "        vertical-align: top;\n",
       "    }\n",
       "\n",
       "    .dataframe thead th {\n",
       "        text-align: right;\n",
       "    }\n",
       "</style>\n",
       "<table border=\"1\" class=\"dataframe\">\n",
       "  <thead>\n",
       "    <tr style=\"text-align: right;\">\n",
       "      <th></th>\n",
       "      <th>name</th>\n",
       "      <th>percent_suspicious_flights</th>\n",
       "    </tr>\n",
       "  </thead>\n",
       "  <tbody>\n",
       "    <tr>\n",
       "      <th>0</th>\n",
       "      <td>IAROMIR ZVEREV</td>\n",
       "      <td>0.500000</td>\n",
       "    </tr>\n",
       "    <tr>\n",
       "      <th>1</th>\n",
       "      <td>VITALINA KOROVINA</td>\n",
       "      <td>0.500000</td>\n",
       "    </tr>\n",
       "    <tr>\n",
       "      <th>2</th>\n",
       "      <td>DANIL VAVILOV</td>\n",
       "      <td>0.250000</td>\n",
       "    </tr>\n",
       "    <tr>\n",
       "      <th>3</th>\n",
       "      <td>AMIR LOPATIN</td>\n",
       "      <td>0.500000</td>\n",
       "    </tr>\n",
       "    <tr>\n",
       "      <th>4</th>\n",
       "      <td>IAROSLAV AKIMOV</td>\n",
       "      <td>0.857143</td>\n",
       "    </tr>\n",
       "  </tbody>\n",
       "</table>\n",
       "</div>"
      ],
      "text/plain": [
       "                name  percent_suspicious_flights\n",
       "0     IAROMIR ZVEREV                    0.500000\n",
       "1  VITALINA KOROVINA                    0.500000\n",
       "2      DANIL VAVILOV                    0.250000\n",
       "3       AMIR LOPATIN                    0.500000\n",
       "4    IAROSLAV AKIMOV                    0.857143"
      ]
     },
     "execution_count": 88,
     "metadata": {},
     "output_type": "execute_result"
    }
   ],
   "source": [
    "pointz.head()"
   ]
  },
  {
   "cell_type": "code",
   "execution_count": null,
   "id": "baf00a5b-ed58-4c64-aa13-7d3dbc666711",
   "metadata": {},
   "outputs": [],
   "source": []
  },
  {
   "cell_type": "code",
   "execution_count": null,
   "id": "924d8558-c2d3-4447-a1ca-d1d0cb0bd15b",
   "metadata": {},
   "outputs": [],
   "source": []
  },
  {
   "cell_type": "code",
   "execution_count": 89,
   "id": "6f04962a-ff1a-48bb-9dec-fcac47777e23",
   "metadata": {},
   "outputs": [],
   "source": [
    "sky_team = pd.read_csv('../data/ready/SkyTeam-exchange.csv')"
   ]
  },
  {
   "cell_type": "code",
   "execution_count": 90,
   "id": "40ca5da1-35aa-4de6-b236-354382a7db0b",
   "metadata": {},
   "outputs": [],
   "source": [
    "sky_team = sky_team[['name', 'percent_suspicious_flights']]"
   ]
  },
  {
   "cell_type": "code",
   "execution_count": 91,
   "id": "f3019dfe-4f6d-460d-b175-749ba1fac5ab",
   "metadata": {},
   "outputs": [
    {
     "data": {
      "text/html": [
       "<div>\n",
       "<style scoped>\n",
       "    .dataframe tbody tr th:only-of-type {\n",
       "        vertical-align: middle;\n",
       "    }\n",
       "\n",
       "    .dataframe tbody tr th {\n",
       "        vertical-align: top;\n",
       "    }\n",
       "\n",
       "    .dataframe thead th {\n",
       "        text-align: right;\n",
       "    }\n",
       "</style>\n",
       "<table border=\"1\" class=\"dataframe\">\n",
       "  <thead>\n",
       "    <tr style=\"text-align: right;\">\n",
       "      <th></th>\n",
       "      <th>name</th>\n",
       "      <th>percent_suspicious_flights</th>\n",
       "    </tr>\n",
       "  </thead>\n",
       "  <tbody>\n",
       "    <tr>\n",
       "      <th>0</th>\n",
       "      <td>MELANIIA AFANASEVA</td>\n",
       "      <td>0.000000</td>\n",
       "    </tr>\n",
       "    <tr>\n",
       "      <th>1</th>\n",
       "      <td>SOFIA MASLOVA</td>\n",
       "      <td>0.090909</td>\n",
       "    </tr>\n",
       "    <tr>\n",
       "      <th>2</th>\n",
       "      <td>BORIS MALININ</td>\n",
       "      <td>0.045455</td>\n",
       "    </tr>\n",
       "    <tr>\n",
       "      <th>3</th>\n",
       "      <td>FEDOR ROGOV</td>\n",
       "      <td>0.000000</td>\n",
       "    </tr>\n",
       "    <tr>\n",
       "      <th>4</th>\n",
       "      <td>EVGENIYA MAKSIMOVA</td>\n",
       "      <td>0.066667</td>\n",
       "    </tr>\n",
       "  </tbody>\n",
       "</table>\n",
       "</div>"
      ],
      "text/plain": [
       "                 name  percent_suspicious_flights\n",
       "0  MELANIIA AFANASEVA                    0.000000\n",
       "1       SOFIA MASLOVA                    0.090909\n",
       "2       BORIS MALININ                    0.045455\n",
       "3         FEDOR ROGOV                    0.000000\n",
       "4  EVGENIYA MAKSIMOVA                    0.066667"
      ]
     },
     "execution_count": 91,
     "metadata": {},
     "output_type": "execute_result"
    }
   ],
   "source": [
    "sky_team.head()"
   ]
  },
  {
   "cell_type": "code",
   "execution_count": null,
   "id": "c0f88028-1a9d-43f8-b1e8-5b2c4fae446f",
   "metadata": {},
   "outputs": [],
   "source": []
  },
  {
   "cell_type": "code",
   "execution_count": null,
   "id": "02d25d65-07a7-412f-b493-1ff4d4a2b71b",
   "metadata": {},
   "outputs": [],
   "source": []
  },
  {
   "cell_type": "code",
   "execution_count": 160,
   "id": "fcb66f6c-d323-4be1-bbe1-4c7bb7cc01e5",
   "metadata": {},
   "outputs": [],
   "source": [
    "df = pd.merge(boarding, pointz, how='outer', on=['name',\t'percent_suspicious_flights'])"
   ]
  },
  {
   "cell_type": "code",
   "execution_count": 162,
   "id": "dd2910c5-18dd-4bc0-93bd-4d3643c8b7d4",
   "metadata": {},
   "outputs": [],
   "source": [
    "df = pd.merge(df, sky_team, how='outer', on=['name',\t'percent_suspicious_flights'])"
   ]
  },
  {
   "cell_type": "code",
   "execution_count": 136,
   "id": "20644573-529d-4a95-ac6e-c1cead5d1ec5",
   "metadata": {},
   "outputs": [],
   "source": [
    "df.drop_duplicates(inplace=True)"
   ]
  },
  {
   "cell_type": "code",
   "execution_count": 141,
   "id": "c54ac826-5d09-4b72-bb61-b3ae4af2df4c",
   "metadata": {},
   "outputs": [
    {
     "data": {
      "text/html": [
       "<div>\n",
       "<style scoped>\n",
       "    .dataframe tbody tr th:only-of-type {\n",
       "        vertical-align: middle;\n",
       "    }\n",
       "\n",
       "    .dataframe tbody tr th {\n",
       "        vertical-align: top;\n",
       "    }\n",
       "\n",
       "    .dataframe thead th {\n",
       "        text-align: right;\n",
       "    }\n",
       "</style>\n",
       "<table border=\"1\" class=\"dataframe\">\n",
       "  <thead>\n",
       "    <tr style=\"text-align: right;\">\n",
       "      <th></th>\n",
       "      <th>name</th>\n",
       "      <th>percent_suspicious_flights</th>\n",
       "    </tr>\n",
       "  </thead>\n",
       "  <tbody>\n",
       "    <tr>\n",
       "      <th>0</th>\n",
       "      <td>ADEL AFANASEV</td>\n",
       "      <td>0.000000</td>\n",
       "    </tr>\n",
       "    <tr>\n",
       "      <th>1</th>\n",
       "      <td>ADEL AGEEV</td>\n",
       "      <td>0.000000</td>\n",
       "    </tr>\n",
       "    <tr>\n",
       "      <th>2</th>\n",
       "      <td>ADEL AGEEV</td>\n",
       "      <td>0.444444</td>\n",
       "    </tr>\n",
       "    <tr>\n",
       "      <th>3</th>\n",
       "      <td>ADEL AGEEV</td>\n",
       "      <td>0.500000</td>\n",
       "    </tr>\n",
       "    <tr>\n",
       "      <th>4</th>\n",
       "      <td>ADEL AKIMOV</td>\n",
       "      <td>0.000000</td>\n",
       "    </tr>\n",
       "  </tbody>\n",
       "</table>\n",
       "</div>"
      ],
      "text/plain": [
       "            name  percent_suspicious_flights\n",
       "0  ADEL AFANASEV                    0.000000\n",
       "1     ADEL AGEEV                    0.000000\n",
       "2     ADEL AGEEV                    0.444444\n",
       "3     ADEL AGEEV                    0.500000\n",
       "4    ADEL AKIMOV                    0.000000"
      ]
     },
     "execution_count": 141,
     "metadata": {},
     "output_type": "execute_result"
    }
   ],
   "source": [
    "df.head()"
   ]
  },
  {
   "cell_type": "code",
   "execution_count": null,
   "id": "3a61a6e0-e141-485d-9b17-a6afa895a4ba",
   "metadata": {},
   "outputs": [],
   "source": []
  },
  {
   "cell_type": "code",
   "execution_count": 156,
   "id": "52930753-5e17-41f5-a704-b6e410e13677",
   "metadata": {},
   "outputs": [],
   "source": [
    "merged_df = pd.merge(anomaly, df, how='inner', on='name')"
   ]
  },
  {
   "cell_type": "code",
   "execution_count": 192,
   "id": "63e3230d-3a30-49fa-9dfb-e7829527533a",
   "metadata": {},
   "outputs": [],
   "source": [
    "merged_df = merged_df[['name', 'percent_suspicious_flights']]\n",
    "merged_df.drop_duplicates(inplace=True)"
   ]
  },
  {
   "cell_type": "code",
   "execution_count": 194,
   "id": "9745465c-5635-4da8-8223-51094742f326",
   "metadata": {},
   "outputs": [
    {
     "data": {
      "text/html": [
       "<div>\n",
       "<style scoped>\n",
       "    .dataframe tbody tr th:only-of-type {\n",
       "        vertical-align: middle;\n",
       "    }\n",
       "\n",
       "    .dataframe tbody tr th {\n",
       "        vertical-align: top;\n",
       "    }\n",
       "\n",
       "    .dataframe thead th {\n",
       "        text-align: right;\n",
       "    }\n",
       "</style>\n",
       "<table border=\"1\" class=\"dataframe\">\n",
       "  <thead>\n",
       "    <tr style=\"text-align: right;\">\n",
       "      <th></th>\n",
       "      <th>name</th>\n",
       "      <th>percent_suspicious_flights</th>\n",
       "    </tr>\n",
       "  </thead>\n",
       "  <tbody>\n",
       "    <tr>\n",
       "      <th>0</th>\n",
       "      <td>ADEL AKSENOV</td>\n",
       "      <td>0.250000</td>\n",
       "    </tr>\n",
       "    <tr>\n",
       "      <th>1</th>\n",
       "      <td>ADEL ALEKSANDROV</td>\n",
       "      <td>0.000000</td>\n",
       "    </tr>\n",
       "    <tr>\n",
       "      <th>2</th>\n",
       "      <td>ADEL ASTAKHOV</td>\n",
       "      <td>0.000000</td>\n",
       "    </tr>\n",
       "    <tr>\n",
       "      <th>3</th>\n",
       "      <td>ADEL BABUSHKIN</td>\n",
       "      <td>0.375000</td>\n",
       "    </tr>\n",
       "    <tr>\n",
       "      <th>4</th>\n",
       "      <td>ADEL BABUSHKIN</td>\n",
       "      <td>0.444444</td>\n",
       "    </tr>\n",
       "  </tbody>\n",
       "</table>\n",
       "</div>"
      ],
      "text/plain": [
       "               name  percent_suspicious_flights\n",
       "0      ADEL AKSENOV                    0.250000\n",
       "1  ADEL ALEKSANDROV                    0.000000\n",
       "2     ADEL ASTAKHOV                    0.000000\n",
       "3    ADEL BABUSHKIN                    0.375000\n",
       "4    ADEL BABUSHKIN                    0.444444"
      ]
     },
     "execution_count": 194,
     "metadata": {},
     "output_type": "execute_result"
    }
   ],
   "source": [
    "merged_df.head()"
   ]
  },
  {
   "cell_type": "code",
   "execution_count": 222,
   "id": "793cd5b4-8664-4acc-ae38-da8a2ded2ba4",
   "metadata": {},
   "outputs": [
    {
     "data": {
      "text/html": [
       "<div>\n",
       "<style scoped>\n",
       "    .dataframe tbody tr th:only-of-type {\n",
       "        vertical-align: middle;\n",
       "    }\n",
       "\n",
       "    .dataframe tbody tr th {\n",
       "        vertical-align: top;\n",
       "    }\n",
       "\n",
       "    .dataframe thead th {\n",
       "        text-align: right;\n",
       "    }\n",
       "</style>\n",
       "<table border=\"1\" class=\"dataframe\">\n",
       "  <thead>\n",
       "    <tr style=\"text-align: right;\">\n",
       "      <th></th>\n",
       "      <th>percent_suspicious_flights</th>\n",
       "    </tr>\n",
       "  </thead>\n",
       "  <tbody>\n",
       "    <tr>\n",
       "      <th>count</th>\n",
       "      <td>51.000000</td>\n",
       "    </tr>\n",
       "    <tr>\n",
       "      <th>mean</th>\n",
       "      <td>0.879278</td>\n",
       "    </tr>\n",
       "    <tr>\n",
       "      <th>std</th>\n",
       "      <td>0.008663</td>\n",
       "    </tr>\n",
       "    <tr>\n",
       "      <th>min</th>\n",
       "      <td>0.875000</td>\n",
       "    </tr>\n",
       "    <tr>\n",
       "      <th>25%</th>\n",
       "      <td>0.875000</td>\n",
       "    </tr>\n",
       "    <tr>\n",
       "      <th>50%</th>\n",
       "      <td>0.875000</td>\n",
       "    </tr>\n",
       "    <tr>\n",
       "      <th>75%</th>\n",
       "      <td>0.875000</td>\n",
       "    </tr>\n",
       "    <tr>\n",
       "      <th>max</th>\n",
       "      <td>0.909091</td>\n",
       "    </tr>\n",
       "  </tbody>\n",
       "</table>\n",
       "</div>"
      ],
      "text/plain": [
       "       percent_suspicious_flights\n",
       "count                   51.000000\n",
       "mean                     0.879278\n",
       "std                      0.008663\n",
       "min                      0.875000\n",
       "25%                      0.875000\n",
       "50%                      0.875000\n",
       "75%                      0.875000\n",
       "max                      0.909091"
      ]
     },
     "execution_count": 222,
     "metadata": {},
     "output_type": "execute_result"
    }
   ],
   "source": [
    "merged_df.describe()"
   ]
  },
  {
   "cell_type": "code",
   "execution_count": 214,
   "id": "154cd5ff-248b-46bf-b21a-c46aef52acc6",
   "metadata": {},
   "outputs": [],
   "source": [
    "merged_df = merged_df[merged_df['percent_suspicious_flights'] > 0.86]"
   ]
  },
  {
   "cell_type": "code",
   "execution_count": 225,
   "id": "0065bcec-77ce-40a4-9c15-854d3ddfb921",
   "metadata": {},
   "outputs": [
    {
     "data": {
      "text/html": [
       "<div>\n",
       "<style scoped>\n",
       "    .dataframe tbody tr th:only-of-type {\n",
       "        vertical-align: middle;\n",
       "    }\n",
       "\n",
       "    .dataframe tbody tr th {\n",
       "        vertical-align: top;\n",
       "    }\n",
       "\n",
       "    .dataframe thead th {\n",
       "        text-align: right;\n",
       "    }\n",
       "</style>\n",
       "<table border=\"1\" class=\"dataframe\">\n",
       "  <thead>\n",
       "    <tr style=\"text-align: right;\">\n",
       "      <th></th>\n",
       "      <th>name</th>\n",
       "      <th>percent_suspicious_flights</th>\n",
       "    </tr>\n",
       "  </thead>\n",
       "  <tbody>\n",
       "    <tr>\n",
       "      <th>188</th>\n",
       "      <td>ADEL VORONOV</td>\n",
       "      <td>0.875</td>\n",
       "    </tr>\n",
       "    <tr>\n",
       "      <th>1382</th>\n",
       "      <td>ALBINA SAKHAROVA</td>\n",
       "      <td>0.900</td>\n",
       "    </tr>\n",
       "    <tr>\n",
       "      <th>1453</th>\n",
       "      <td>ALEKSANDR ANTONOV</td>\n",
       "      <td>0.875</td>\n",
       "    </tr>\n",
       "    <tr>\n",
       "      <th>3668</th>\n",
       "      <td>ALLA KORNEEVA</td>\n",
       "      <td>0.875</td>\n",
       "    </tr>\n",
       "    <tr>\n",
       "      <th>4638</th>\n",
       "      <td>AMIR GAVRILOV</td>\n",
       "      <td>0.875</td>\n",
       "    </tr>\n",
       "  </tbody>\n",
       "</table>\n",
       "</div>"
      ],
      "text/plain": [
       "                   name  percent_suspicious_flights\n",
       "188        ADEL VORONOV                       0.875\n",
       "1382   ALBINA SAKHAROVA                       0.900\n",
       "1453  ALEKSANDR ANTONOV                       0.875\n",
       "3668      ALLA KORNEEVA                       0.875\n",
       "4638      AMIR GAVRILOV                       0.875"
      ]
     },
     "execution_count": 225,
     "metadata": {},
     "output_type": "execute_result"
    }
   ],
   "source": [
    "merged_df.head()"
   ]
  },
  {
   "cell_type": "code",
   "execution_count": null,
   "id": "60822e00-2f3c-4631-8372-af835b872947",
   "metadata": {},
   "outputs": [],
   "source": []
  },
  {
   "cell_type": "code",
   "execution_count": null,
   "id": "4124bf12-a2bc-4477-becb-6940d9af601a",
   "metadata": {},
   "outputs": [],
   "source": []
  },
  {
   "cell_type": "code",
   "execution_count": 227,
   "id": "c40c87ef-4ef5-4650-8864-d45d0cdea8c1",
   "metadata": {},
   "outputs": [],
   "source": [
    "merged_df.to_csv('../data/ready/spyes.csv')"
   ]
  },
  {
   "cell_type": "code",
   "execution_count": null,
   "id": "17230c6f-557c-491e-84d4-bb1e91d8905e",
   "metadata": {},
   "outputs": [],
   "source": []
  },
  {
   "cell_type": "code",
   "execution_count": null,
   "id": "b79ad595-1e8b-4dcb-9ce2-895784c6cae1",
   "metadata": {},
   "outputs": [],
   "source": []
  }
 ],
 "metadata": {
  "kernelspec": {
   "display_name": "Python 3 (ipykernel)",
   "language": "python",
   "name": "python3"
  },
  "language_info": {
   "codemirror_mode": {
    "name": "ipython",
    "version": 3
   },
   "file_extension": ".py",
   "mimetype": "text/x-python",
   "name": "python",
   "nbconvert_exporter": "python",
   "pygments_lexer": "ipython3",
   "version": "3.12.4"
  }
 },
 "nbformat": 4,
 "nbformat_minor": 5
}
