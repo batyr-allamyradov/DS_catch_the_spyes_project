{
 "cells": [
  {
   "cell_type": "code",
   "execution_count": 53,
   "id": "8544c5cb-4160-4c2c-83c0-db0c17acd42e",
   "metadata": {},
   "outputs": [],
   "source": [
    "import pandas as pd"
   ]
  },
  {
   "cell_type": "code",
   "execution_count": 55,
   "id": "96b81201-127f-4024-8204-11fc5ee765d7",
   "metadata": {},
   "outputs": [],
   "source": [
    "pointz = pd.read_csv('../data/PointzAggregator-AirlinesData.csv', index_col='id')"
   ]
  },
  {
   "cell_type": "code",
   "execution_count": 57,
   "id": "4117bc30-3a68-4cc7-9e68-5db306ff87b5",
   "metadata": {},
   "outputs": [
    {
     "data": {
      "text/html": [
       "<div>\n",
       "<style scoped>\n",
       "    .dataframe tbody tr th:only-of-type {\n",
       "        vertical-align: middle;\n",
       "    }\n",
       "\n",
       "    .dataframe tbody tr th {\n",
       "        vertical-align: top;\n",
       "    }\n",
       "\n",
       "    .dataframe thead th {\n",
       "        text-align: right;\n",
       "    }\n",
       "</style>\n",
       "<table border=\"1\" class=\"dataframe\">\n",
       "  <thead>\n",
       "    <tr style=\"text-align: right;\">\n",
       "      <th></th>\n",
       "      <th>uid</th>\n",
       "      <th>FirstName</th>\n",
       "      <th>LastName</th>\n",
       "      <th>CardNumber</th>\n",
       "      <th>BonusProgram</th>\n",
       "      <th>Code</th>\n",
       "      <th>Date</th>\n",
       "      <th>Departure</th>\n",
       "      <th>Arrival</th>\n",
       "      <th>Fare</th>\n",
       "    </tr>\n",
       "    <tr>\n",
       "      <th>id</th>\n",
       "      <th></th>\n",
       "      <th></th>\n",
       "      <th></th>\n",
       "      <th></th>\n",
       "      <th></th>\n",
       "      <th></th>\n",
       "      <th></th>\n",
       "      <th></th>\n",
       "      <th></th>\n",
       "      <th></th>\n",
       "    </tr>\n",
       "  </thead>\n",
       "  <tbody>\n",
       "    <tr>\n",
       "      <th>0</th>\n",
       "      <td>613142142</td>\n",
       "      <td>IAROMIR</td>\n",
       "      <td>ZVEREV</td>\n",
       "      <td>FB 171388778</td>\n",
       "      <td>Flying Blue</td>\n",
       "      <td>KE827</td>\n",
       "      <td>2017-08-06</td>\n",
       "      <td>rea</td>\n",
       "      <td>SZX</td>\n",
       "      <td>YGRPZT</td>\n",
       "    </tr>\n",
       "    <tr>\n",
       "      <th>1</th>\n",
       "      <td>613142142</td>\n",
       "      <td>IAROMIR</td>\n",
       "      <td>ZVEREV</td>\n",
       "      <td>FB 171388778</td>\n",
       "      <td>Flying Blue</td>\n",
       "      <td>MU9706</td>\n",
       "      <td>2017-10-26</td>\n",
       "      <td>PEK</td>\n",
       "      <td>BSD</td>\n",
       "      <td>YSTNYV</td>\n",
       "    </tr>\n",
       "    <tr>\n",
       "      <th>2</th>\n",
       "      <td>103197717</td>\n",
       "      <td>VITALINA</td>\n",
       "      <td>KOROVINA</td>\n",
       "      <td>KE 696768759</td>\n",
       "      <td>Korean Air SKYPASS</td>\n",
       "      <td>DL5058</td>\n",
       "      <td>2017-09-11</td>\n",
       "      <td>CHA</td>\n",
       "      <td>ATL</td>\n",
       "      <td>YRSTKY</td>\n",
       "    </tr>\n",
       "    <tr>\n",
       "      <th>3</th>\n",
       "      <td>103197717</td>\n",
       "      <td>VITALINA</td>\n",
       "      <td>KOROVINA</td>\n",
       "      <td>KE 696768759</td>\n",
       "      <td>Korean Air SKYPASS</td>\n",
       "      <td>KE1</td>\n",
       "      <td>2017-04-01</td>\n",
       "      <td>rea</td>\n",
       "      <td>HNL</td>\n",
       "      <td>PRSTRU</td>\n",
       "    </tr>\n",
       "    <tr>\n",
       "      <th>4</th>\n",
       "      <td>103197717</td>\n",
       "      <td>VITALINA</td>\n",
       "      <td>KOROVINA</td>\n",
       "      <td>KE 696768759</td>\n",
       "      <td>Korean Air SKYPASS</td>\n",
       "      <td>DL837</td>\n",
       "      <td>2017-09-13</td>\n",
       "      <td>ATL</td>\n",
       "      <td>HNL</td>\n",
       "      <td>YGRPNG</td>\n",
       "    </tr>\n",
       "  </tbody>\n",
       "</table>\n",
       "</div>"
      ],
      "text/plain": [
       "          uid FirstName  LastName    CardNumber        BonusProgram    Code  \\\n",
       "id                                                                            \n",
       "0   613142142   IAROMIR    ZVEREV  FB 171388778         Flying Blue   KE827   \n",
       "1   613142142   IAROMIR    ZVEREV  FB 171388778         Flying Blue  MU9706   \n",
       "2   103197717  VITALINA  KOROVINA  KE 696768759  Korean Air SKYPASS  DL5058   \n",
       "3   103197717  VITALINA  KOROVINA  KE 696768759  Korean Air SKYPASS     KE1   \n",
       "4   103197717  VITALINA  KOROVINA  KE 696768759  Korean Air SKYPASS   DL837   \n",
       "\n",
       "          Date Departure Arrival    Fare  \n",
       "id                                        \n",
       "0   2017-08-06       rea     SZX  YGRPZT  \n",
       "1   2017-10-26       PEK     BSD  YSTNYV  \n",
       "2   2017-09-11       CHA     ATL  YRSTKY  \n",
       "3   2017-04-01       rea     HNL  PRSTRU  \n",
       "4   2017-09-13       ATL     HNL  YGRPNG  "
      ]
     },
     "execution_count": 57,
     "metadata": {},
     "output_type": "execute_result"
    }
   ],
   "source": [
    "pointz.head()"
   ]
  },
  {
   "cell_type": "markdown",
   "id": "71169b2f-e79d-47f1-a21e-659f0a73290d",
   "metadata": {},
   "source": [
    "### Найдем все бонусные программы"
   ]
  },
  {
   "cell_type": "code",
   "execution_count": 59,
   "id": "3b48f755-3f99-42c0-b01f-b044436141d3",
   "metadata": {},
   "outputs": [
    {
     "data": {
      "text/plain": [
       "array(['Flying Blue', 'Korean Air SKYPASS', 'Delta SkyMiles',\n",
       "       'Aeroflot Bonus'], dtype=object)"
      ]
     },
     "execution_count": 59,
     "metadata": {},
     "output_type": "execute_result"
    }
   ],
   "source": [
    "pointz.BonusProgram.unique()"
   ]
  },
  {
   "cell_type": "markdown",
   "id": "4c63473d-4a8f-42d3-a88d-8621e0237f1a",
   "metadata": {},
   "source": [
    "### Выделим номер и код программы"
   ]
  },
  {
   "cell_type": "code",
   "execution_count": 61,
   "id": "a48d372c-607b-4723-938b-e32adf7a3472",
   "metadata": {},
   "outputs": [],
   "source": [
    "pointz['bonus'] = [bonus.split()[0] for bonus in pointz['CardNumber'].values]"
   ]
  },
  {
   "cell_type": "code",
   "execution_count": 63,
   "id": "a84426be-ff0c-43f0-8d9e-59428d262648",
   "metadata": {},
   "outputs": [],
   "source": [
    "pointz['number'] = [number.split()[1] for number in pointz['CardNumber'].values]"
   ]
  },
  {
   "cell_type": "code",
   "execution_count": 65,
   "id": "8ceff976-1642-42d9-9e75-e0adb7a2f62f",
   "metadata": {},
   "outputs": [
    {
     "data": {
      "text/html": [
       "<div>\n",
       "<style scoped>\n",
       "    .dataframe tbody tr th:only-of-type {\n",
       "        vertical-align: middle;\n",
       "    }\n",
       "\n",
       "    .dataframe tbody tr th {\n",
       "        vertical-align: top;\n",
       "    }\n",
       "\n",
       "    .dataframe thead th {\n",
       "        text-align: right;\n",
       "    }\n",
       "</style>\n",
       "<table border=\"1\" class=\"dataframe\">\n",
       "  <thead>\n",
       "    <tr style=\"text-align: right;\">\n",
       "      <th></th>\n",
       "      <th>uid</th>\n",
       "      <th>FirstName</th>\n",
       "      <th>LastName</th>\n",
       "      <th>CardNumber</th>\n",
       "      <th>BonusProgram</th>\n",
       "      <th>Code</th>\n",
       "      <th>Date</th>\n",
       "      <th>Departure</th>\n",
       "      <th>Arrival</th>\n",
       "      <th>Fare</th>\n",
       "      <th>bonus</th>\n",
       "      <th>number</th>\n",
       "    </tr>\n",
       "    <tr>\n",
       "      <th>id</th>\n",
       "      <th></th>\n",
       "      <th></th>\n",
       "      <th></th>\n",
       "      <th></th>\n",
       "      <th></th>\n",
       "      <th></th>\n",
       "      <th></th>\n",
       "      <th></th>\n",
       "      <th></th>\n",
       "      <th></th>\n",
       "      <th></th>\n",
       "      <th></th>\n",
       "    </tr>\n",
       "  </thead>\n",
       "  <tbody>\n",
       "    <tr>\n",
       "      <th>0</th>\n",
       "      <td>613142142</td>\n",
       "      <td>IAROMIR</td>\n",
       "      <td>ZVEREV</td>\n",
       "      <td>FB 171388778</td>\n",
       "      <td>Flying Blue</td>\n",
       "      <td>KE827</td>\n",
       "      <td>2017-08-06</td>\n",
       "      <td>rea</td>\n",
       "      <td>SZX</td>\n",
       "      <td>YGRPZT</td>\n",
       "      <td>FB</td>\n",
       "      <td>171388778</td>\n",
       "    </tr>\n",
       "    <tr>\n",
       "      <th>1</th>\n",
       "      <td>613142142</td>\n",
       "      <td>IAROMIR</td>\n",
       "      <td>ZVEREV</td>\n",
       "      <td>FB 171388778</td>\n",
       "      <td>Flying Blue</td>\n",
       "      <td>MU9706</td>\n",
       "      <td>2017-10-26</td>\n",
       "      <td>PEK</td>\n",
       "      <td>BSD</td>\n",
       "      <td>YSTNYV</td>\n",
       "      <td>FB</td>\n",
       "      <td>171388778</td>\n",
       "    </tr>\n",
       "    <tr>\n",
       "      <th>2</th>\n",
       "      <td>103197717</td>\n",
       "      <td>VITALINA</td>\n",
       "      <td>KOROVINA</td>\n",
       "      <td>KE 696768759</td>\n",
       "      <td>Korean Air SKYPASS</td>\n",
       "      <td>DL5058</td>\n",
       "      <td>2017-09-11</td>\n",
       "      <td>CHA</td>\n",
       "      <td>ATL</td>\n",
       "      <td>YRSTKY</td>\n",
       "      <td>KE</td>\n",
       "      <td>696768759</td>\n",
       "    </tr>\n",
       "    <tr>\n",
       "      <th>3</th>\n",
       "      <td>103197717</td>\n",
       "      <td>VITALINA</td>\n",
       "      <td>KOROVINA</td>\n",
       "      <td>KE 696768759</td>\n",
       "      <td>Korean Air SKYPASS</td>\n",
       "      <td>KE1</td>\n",
       "      <td>2017-04-01</td>\n",
       "      <td>rea</td>\n",
       "      <td>HNL</td>\n",
       "      <td>PRSTRU</td>\n",
       "      <td>KE</td>\n",
       "      <td>696768759</td>\n",
       "    </tr>\n",
       "    <tr>\n",
       "      <th>4</th>\n",
       "      <td>103197717</td>\n",
       "      <td>VITALINA</td>\n",
       "      <td>KOROVINA</td>\n",
       "      <td>KE 696768759</td>\n",
       "      <td>Korean Air SKYPASS</td>\n",
       "      <td>DL837</td>\n",
       "      <td>2017-09-13</td>\n",
       "      <td>ATL</td>\n",
       "      <td>HNL</td>\n",
       "      <td>YGRPNG</td>\n",
       "      <td>KE</td>\n",
       "      <td>696768759</td>\n",
       "    </tr>\n",
       "  </tbody>\n",
       "</table>\n",
       "</div>"
      ],
      "text/plain": [
       "          uid FirstName  LastName    CardNumber        BonusProgram    Code  \\\n",
       "id                                                                            \n",
       "0   613142142   IAROMIR    ZVEREV  FB 171388778         Flying Blue   KE827   \n",
       "1   613142142   IAROMIR    ZVEREV  FB 171388778         Flying Blue  MU9706   \n",
       "2   103197717  VITALINA  KOROVINA  KE 696768759  Korean Air SKYPASS  DL5058   \n",
       "3   103197717  VITALINA  KOROVINA  KE 696768759  Korean Air SKYPASS     KE1   \n",
       "4   103197717  VITALINA  KOROVINA  KE 696768759  Korean Air SKYPASS   DL837   \n",
       "\n",
       "          Date Departure Arrival    Fare bonus     number  \n",
       "id                                                         \n",
       "0   2017-08-06       rea     SZX  YGRPZT    FB  171388778  \n",
       "1   2017-10-26       PEK     BSD  YSTNYV    FB  171388778  \n",
       "2   2017-09-11       CHA     ATL  YRSTKY    KE  696768759  \n",
       "3   2017-04-01       rea     HNL  PRSTRU    KE  696768759  \n",
       "4   2017-09-13       ATL     HNL  YGRPNG    KE  696768759  "
      ]
     },
     "execution_count": 65,
     "metadata": {},
     "output_type": "execute_result"
    }
   ],
   "source": [
    "pointz.head()"
   ]
  },
  {
   "cell_type": "code",
   "execution_count": null,
   "id": "646fac57-be99-4acb-8c0c-b479b842bd63",
   "metadata": {},
   "outputs": [],
   "source": []
  },
  {
   "cell_type": "markdown",
   "id": "a35ce564-63c9-4907-850f-a74f735e5a07",
   "metadata": {},
   "source": [
    "### Составим уникальные комбинации ИМЯ + НОМЕР + КОД ПРОГРАММЫ"
   ]
  },
  {
   "cell_type": "code",
   "execution_count": 67,
   "id": "0d19a553-b197-4c26-8817-4df659aa063c",
   "metadata": {},
   "outputs": [],
   "source": [
    "pointz['name'] = pointz['FirstName'] + ' ' + pointz['LastName']"
   ]
  },
  {
   "cell_type": "code",
   "execution_count": 69,
   "id": "0897e9af-c0cb-49f3-b7fc-37d9d61800bc",
   "metadata": {},
   "outputs": [],
   "source": [
    "comb = pointz[['name', 'bonus', 'number']]"
   ]
  },
  {
   "cell_type": "code",
   "execution_count": 71,
   "id": "63800d03-2d22-4d7e-bce4-77eafe785094",
   "metadata": {},
   "outputs": [],
   "source": [
    "comb = comb.drop_duplicates()"
   ]
  },
  {
   "cell_type": "code",
   "execution_count": null,
   "id": "30502fa1-4f5a-445d-8c05-242eb45b6c2f",
   "metadata": {},
   "outputs": [],
   "source": []
  },
  {
   "cell_type": "code",
   "execution_count": 50,
   "id": "a4f43f0e-28ed-4899-86f0-753113940d90",
   "metadata": {},
   "outputs": [],
   "source": [
    "comb.to_csv('../data/bonus.csv', index_label='id')"
   ]
  }
 ],
 "metadata": {
  "kernelspec": {
   "display_name": "Python 3 (ipykernel)",
   "language": "python",
   "name": "python3"
  },
  "language_info": {
   "codemirror_mode": {
    "name": "ipython",
    "version": 3
   },
   "file_extension": ".py",
   "mimetype": "text/x-python",
   "name": "python",
   "nbconvert_exporter": "python",
   "pygments_lexer": "ipython3",
   "version": "3.12.4"
  }
 },
 "nbformat": 4,
 "nbformat_minor": 5
}
