{
 "cells": [
  {
   "cell_type": "code",
   "execution_count": 1,
   "metadata": {},
   "outputs": [],
   "source": [
    "import json\n",
    "import csv\n",
    "import pandas as pd\n",
    "df = pd.DataFrame(columns=['Name','Date','Departure','Destination'])\n",
    "f = open('data/FrequentFlyerForum-Profiles.json', 'r')\n",
    "input = json.loads(f.read())"
   ]
  },
  {
   "cell_type": "code",
   "execution_count": 2,
   "metadata": {},
   "outputs": [],
   "source": [
    "data = [['NickName','Flight','Date','Arrival port','Arrival city','Arrival country','Departure port','Departure town','Departure country',\n",
    "         'FB status','FB number','KE status','KE number','SU status','SU number','DT status','DT number','Name']]\n",
    "for flyer in input['Forum Profiles']:\n",
    "        for flight in flyer['Registered Flights']:\n",
    "                flight_data = [flyer['NickName']]\n",
    "                flight_data.append(flight['Flight'])\n",
    "                flight_data.append(flight['Date'])\n",
    "                flight_data.append(flight['Arrival']['Airport'])\n",
    "                flight_data.append(flight['Arrival']['City'])\n",
    "                flight_data.append(flight['Arrival']['Country'])\n",
    "                flight_data.append(flight['Departure']['Airport'])\n",
    "                flight_data.append(flight['Departure']['City'])\n",
    "                flight_data.append(flight['Departure']['Country'])\n",
    "                loyality_progs = flyer['Loyality Programm']\n",
    "                if (loyality_progs is not None):\n",
    "                        progs_list = ['']*8\n",
    "                        for loyality in loyality_progs:\n",
    "                                if (loyality['programm'] == 'FB'):\n",
    "                                        is_empty = False\n",
    "                                        progs_list[0] = loyality['Status']\n",
    "                                        progs_list[1] = loyality['Number']\n",
    "                                if (loyality['programm'] == 'KE'):\n",
    "                                        is_empty = False\n",
    "                                        progs_list[2] = loyality['Status']\n",
    "                                        progs_list[3] = loyality['Number']\n",
    "                                if (loyality['programm'] == 'SU'):\n",
    "                                        is_empty = False\n",
    "                                        progs_list[4] = loyality['Status']\n",
    "                                        progs_list[5] = loyality['Number']\n",
    "                                if (loyality['programm'] == 'DT'):\n",
    "                                        is_empty = False\n",
    "                                        progs_list[6] = loyality['Status']\n",
    "                                        progs_list[7] = loyality['Number']\n",
    "                        for i in range(8):\n",
    "                                flight_data.append(progs_list[i])\n",
    "                else:\n",
    "                        for i in range(8):\n",
    "                                flight_data.append('')\n",
    "                if (flyer['Real Name'] is not None):\n",
    "                        if (flyer['Real Name']['Last Name'] is not None):\n",
    "                                flight_data.append(flyer['Real Name']['Last Name']+' '+flyer['Real Name']['First Name'])\n",
    "                        else:\n",
    "                                flight_data.append('')\n",
    "                else:\n",
    "                        flight_data.append('')\n",
    "                data.append(flight_data)"
   ]
  },
  {
   "cell_type": "code",
   "execution_count": 3,
   "metadata": {},
   "outputs": [],
   "source": [
    "with open('data/frequent_flyers.csv', mode='w') as f_out:\n",
    "    writer = csv.writer(f_out)\n",
    "    writer.writerows(data)"
   ]
  }
 ],
 "metadata": {
  "kernelspec": {
   "display_name": "Python 3",
   "language": "python",
   "name": "python3"
  },
  "language_info": {
   "codemirror_mode": {
    "name": "ipython",
    "version": 3
   },
   "file_extension": ".py",
   "mimetype": "text/x-python",
   "name": "python",
   "nbconvert_exporter": "python",
   "pygments_lexer": "ipython3",
   "version": "3.11.9"
  }
 },
 "nbformat": 4,
 "nbformat_minor": 2
}
