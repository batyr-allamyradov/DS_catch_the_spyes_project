{
 "cells": [
  {
   "cell_type": "code",
   "execution_count": null,
   "id": "a207ac30-dee5-43d0-a97c-c96c7300afe4",
   "metadata": {},
   "outputs": [],
   "source": [
    "import pdfplumber\n",
    "import re\n",
    "import csv\n",
    "\n",
    "pdf_path = \"../data/Skyteam_Timetable (1).pdf\"  \n",
    "\n",
    "def extract_text_from_pdf(pdf_path):\n",
    "    text = \"\"\n",
    "    with pdfplumber.open(pdf_path) as pdf:\n",
    "        for page in pdf.pages:\n",
    "            text += page.extract_text()\n",
    "    return text\n",
    "\n",
    "def parse_flight_data(text):\n",
    "    pattern = re.compile(\n",
    "        r'(\\d{2}\\s\\w{3}\\s-\\s\\d{2}\\s\\w{3})\\s([\\d\\s]+)\\s(\\d{2}:\\d{2})\\s(\\d{2}:\\d{2})\\s(\\w{2,4}\\d+)\\s(\\w+)\\s(\\d+H\\d+M)'\n",
    "    )\n",
    "    \n",
    "    matches = pattern.findall(text)\n",
    "    return matches\n",
    "\n",
    "def save_to_csv(matches, output_csv):\n",
    "    with open(output_csv, mode='w', newline='') as file:\n",
    "        writer = csv.writer(file)\n",
    "        \n",
    "        writer.writerow(['Validity', 'Days', 'DepartureTime', 'ArrivalTime', 'Flight', 'Aircraft', 'Duration'])\n",
    "        \n",
    "        for match in matches:\n",
    "            writer.writerow(match)\n",
    "\n",
    "if __name__ == \"__main__\":\n",
    "    text = extract_text_from_pdf(pdf_path)\n",
    "    \n",
    "    matches = parse_flight_data(text)\n",
    "    \n",
    "    output_csv = \"../data/SkyTeam_Timetable.csv\"\n",
    "    \n",
    "    save_to_csv(matches, output_csv)\n",
    "    \n",
    "    print(f\"Данные успешно сохранены в файл: {output_csv}\")\n"
   ]
  }
 ],
 "metadata": {
  "kernelspec": {
   "display_name": "Python 3 (ipykernel)",
   "language": "python",
   "name": "python3"
  },
  "language_info": {
   "codemirror_mode": {
    "name": "ipython",
    "version": 3
   },
   "file_extension": ".py",
   "mimetype": "text/x-python",
   "name": "python",
   "nbconvert_exporter": "python",
   "pygments_lexer": "ipython3",
   "version": "3.12.4"
  }
 },
 "nbformat": 4,
 "nbformat_minor": 5
}
